{
 "cells": [
  {
   "cell_type": "code",
   "execution_count": 1,
   "id": "39dbad8f-905f-4fbe-ae31-a5fa887f496e",
   "metadata": {},
   "outputs": [],
   "source": [
    "from pyspark.sql import SparkSession\n",
    "# Create a SparkSession\n",
    "spark = SparkSession.builder \\\n",
    "    .appName(\"Read CSV Example\") \\\n",
    "    .getOrCreate()"
   ]
  },
  {
   "cell_type": "code",
   "execution_count": 2,
   "id": "77b4edca-0f0b-4cf6-a29b-d86b15c63dd7",
   "metadata": {},
   "outputs": [
    {
     "data": {
      "text/plain": [
       "500000"
      ]
     },
     "execution_count": 2,
     "metadata": {},
     "output_type": "execute_result"
    }
   ],
   "source": [
    "from pyspark.sql import SparkSession\n",
    "\n",
    "# Create a SparkSession\n",
    "spark = SparkSession.builder \\\n",
    "    .appName(\"Read CSV Example\") \\\n",
    "    .getOrCreate()\n",
    "# accounts\n",
    "df_accounts = spark.read \\\n",
    "    .option(\"header\", \"true\")  \\\n",
    "    .option(\"inferSchema\", \"true\")  \\\n",
    "    .csv(\"accounts.csv\", sep=\";\")\n",
    "\n",
    "df_accounts.count()\n"
   ]
  },
  {
   "cell_type": "code",
   "execution_count": 3,
   "id": "33d06567-d7fe-4ca5-8b0d-502b554bd552",
   "metadata": {},
   "outputs": [
    {
     "data": {
      "text/plain": [
       "121"
      ]
     },
     "execution_count": 3,
     "metadata": {},
     "output_type": "execute_result"
    }
   ],
   "source": [
    "from pyspark.sql import SparkSession\n",
    "# Create a SparkSession\n",
    "spark = SparkSession.builder \\\n",
    "    .appName(\"Read CSV Example\") \\\n",
    "    .getOrCreate()\n",
    "\n",
    "# country_abbreviation\n",
    "df_country_abbreviation = spark.read \\\n",
    "    .option(\"header\", \"true\") \\\n",
    "    .option(\"inferSchema\", \"true\") \\\n",
    "    .csv(\"country_abbreviation.csv\", sep=\";\") \n",
    "\n",
    "df_country_abbreviation.count()"
   ]
  },
  {
   "cell_type": "code",
   "execution_count": 4,
   "id": "575f87e2-836f-4b6d-8ec3-83fc7e2b3b0a",
   "metadata": {},
   "outputs": [
    {
     "data": {
      "text/plain": [
       "5000000"
      ]
     },
     "execution_count": 4,
     "metadata": {},
     "output_type": "execute_result"
    }
   ],
   "source": [
    "from pyspark.sql import SparkSession\n",
    "# Create a SparkSession\n",
    "spark = SparkSession.builder \\\n",
    "    .appName(\"Read CSV Example\") \\\n",
    "    .getOrCreate()\n",
    "\n",
    "# transactions\n",
    "df_transactions = spark.read \\\n",
    "    .option(\"header\", \"true\") \\\n",
    "    .option(\"inferSchema\", \"true\") \\\n",
    "    .csv(\"transactions.csv\", sep=\";\")\n",
    "\n",
    "df_transactions.count()\n",
    "\n"
   ]
  },
  {
   "cell_type": "code",
   "execution_count": null,
   "id": "b28bf93c-ef36-4d67-94d1-685b20c88c0b",
   "metadata": {},
   "outputs": [],
   "source": [
    "spark.stop()"
   ]
  },
  {
   "cell_type": "markdown",
   "id": "d87bf58f-54e1-42d8-b3f6-a9d6ac4e8bb5",
   "metadata": {},
   "source": [
    "• Calculate how many accounts of each type there are using Spark SQL. The return type is a dataframe [account_type: string, account_type_count: int]"
   ]
  },
  {
   "cell_type": "code",
   "execution_count": 5,
   "id": "7719dc5a-d633-408e-b584-a57edbee8649",
   "metadata": {},
   "outputs": [
    {
     "name": "stdout",
     "output_type": "stream",
     "text": [
      "+------------+------------------+\n",
      "|account_type|account_type_count|\n",
      "+------------+------------------+\n",
      "|    Personal|           1667072|\n",
      "|Professional|           1667358|\n",
      "|    Business|           1665570|\n",
      "+------------+------------------+\n",
      "\n"
     ]
    }
   ],
   "source": [
    "from pyspark.sql import SparkSession\n",
    "\n",
    "# Initialize a Spark session\n",
    "spark = SparkSession.builder.appName(\"AccountTypeCount\").getOrCreate()\n",
    "\n",
    "df_transactions = spark.read \\\n",
    "    .option(\"header\", \"true\") \\\n",
    "    .option(\"inferSchema\", \"true\") \\\n",
    "    .csv(\"transactions.csv\", sep=\";\")\n",
    "\n",
    "df_accounts = spark.read \\\n",
    "    .option(\"header\", \"true\")  \\\n",
    "    .option(\"inferSchema\", \"true\")  \\\n",
    "    .csv(\"accounts.csv\", sep=\";\")\n",
    "\n",
    "df_accounts.createOrReplaceTempView(\"accounts\")\n",
    "\n",
    "df_transactions.createOrReplaceTempView(\"transactions\")\n",
    "\n",
    "df_accounts_result = spark.sql(\"\"\"\n",
    "    SELECT t.account_type AS account_type, COUNT(t.account_type) AS account_type_count \n",
    "    FROM transactions t\n",
    "    LEFT JOIN accounts a\n",
    "    ON a.id = t.id\n",
    "    GROUP BY t.account_type\n",
    "    \"\"\")\n",
    "\n",
    "df_accounts_result.show()"
   ]
  },
  {
   "cell_type": "markdown",
   "id": "45da2dfc-8e78-4938-b2c5-ab45edd0d2f3",
   "metadata": {},
   "source": [
    " •\tCalculate only the balance and the latest date for each account from transactions.csv. To calculate the balance, summarize all the transactions for  \n",
    "    each account. The return type is a dataframe [account_id: string, balance: string, latest_date: date]."
   ]
  },
  {
   "cell_type": "code",
   "execution_count": 6,
   "id": "cc170b24-2d58-45c2-b1f6-6739eae97c17",
   "metadata": {},
   "outputs": [
    {
     "name": "stdout",
     "output_type": "stream",
     "text": [
      "+----------+------------------+-----------+\n",
      "|account_id|           balance|latest_date|\n",
      "+----------+------------------+-----------+\n",
      "|    482333|          27174.07| 2020-07-17|\n",
      "|    222048|          48004.81| 2020-07-20|\n",
      "|    328078|          36948.25| 2020-02-01|\n",
      "|    192401|          36736.98| 2020-01-30|\n",
      "|    273916| 47475.37999999999| 2021-05-30|\n",
      "|    485103|          62198.93| 2021-05-22|\n",
      "|    300282|55103.619999999995| 2021-05-01|\n",
      "|     20683|          56448.72| 2021-10-27|\n",
      "|     15846| 58671.90999999999| 2020-12-23|\n",
      "|    446783| 98085.51000000001| 2021-12-11|\n",
      "|     92182|           42335.3| 2020-08-08|\n",
      "|    477485|          22114.03| 2020-05-23|\n",
      "|    171142|40428.899999999994| 2021-04-07|\n",
      "|    317762|          40025.55| 2021-12-02|\n",
      "|     65478|           57941.9| 2021-10-06|\n",
      "|    306768|          26566.93| 2019-12-19|\n",
      "|    380411|          43652.94| 2020-06-02|\n",
      "|    304681|          37827.69| 2021-03-26|\n",
      "|    475638|           44509.1| 2021-11-23|\n",
      "|     97413|          39611.24| 2018-05-01|\n",
      "+----------+------------------+-----------+\n",
      "only showing top 20 rows\n",
      "\n"
     ]
    }
   ],
   "source": [
    "from pyspark.sql import SparkSession\n",
    "\n",
    "# Create a SparkSession\n",
    "spark = SparkSession.builder \\\n",
    "    .appName(\"Read CSV Example\") \\\n",
    "    .getOrCreate()\n",
    "\n",
    "df_transactions = spark.read \\\n",
    "    .option(\"header\", \"true\") \\\n",
    "    .option(\"inferSchema\", \"true\") \\\n",
    "    .csv(\"transactions.csv\", sep=\";\")\n",
    "\n",
    "df_transactions.createOrReplaceTempView(\"transactions\")\n",
    "\n",
    "\n",
    "df_accounts_last_date_result = spark.sql(\"\"\"\n",
    "    SELECT id AS account_id,\n",
    "           CAST(SUM(amount) AS STRING) AS balance,\n",
    "           MAX(transaction_date) as latest_date\n",
    "    FROM transactions \n",
    "    GROUP BY id\n",
    "    \"\"\")\n",
    "\n",
    "df_accounts_last_date_result.show()"
   ]
  },
  {
   "cell_type": "markdown",
   "id": "1eb3fe10-8caf-4fb7-998b-206269931152",
   "metadata": {},
   "source": [
    "2.\tWrite a function using Spark Python or Spark Scala API to calculate total earnings (sum of transactions above 0) for each user from Switzerland by year as a pivot table. The result dataframe should contain user full names as one field split by whitespace, years, and earning values. "
   ]
  },
  {
   "cell_type": "code",
   "execution_count": null,
   "id": "7ba0501c-028f-45b3-a0a4-f45562876734",
   "metadata": {},
   "outputs": [],
   "source": []
  }
 ],
 "metadata": {
  "kernelspec": {
   "display_name": "Python 3 (ipykernel)",
   "language": "python",
   "name": "python3"
  },
  "language_info": {
   "codemirror_mode": {
    "name": "ipython",
    "version": 3
   },
   "file_extension": ".py",
   "mimetype": "text/x-python",
   "name": "python",
   "nbconvert_exporter": "python",
   "pygments_lexer": "ipython3",
   "version": "3.11.5"
  }
 },
 "nbformat": 4,
 "nbformat_minor": 5
}
