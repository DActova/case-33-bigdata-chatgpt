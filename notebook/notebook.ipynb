{
 "cells": [
  {
   "cell_type": "code",
   "execution_count": 1,
   "id": "39dbad8f-905f-4fbe-ae31-a5fa887f496e",
   "metadata": {},
   "outputs": [],
   "source": [
    "from pyspark.sql import SparkSession\n",
    "# Create a SparkSession\n",
    "spark = SparkSession.builder \\\n",
    "    .appName(\"Read CSV Example\") \\\n",
    "    .getOrCreate()"
   ]
  },
  {
   "cell_type": "code",
   "execution_count": 2,
   "id": "77b4edca-0f0b-4cf6-a29b-d86b15c63dd7",
   "metadata": {},
   "outputs": [
    {
     "data": {
      "text/plain": [
       "500000"
      ]
     },
     "execution_count": 2,
     "metadata": {},
     "output_type": "execute_result"
    }
   ],
   "source": [
    "from pyspark.sql import SparkSession\n",
    "\n",
    "# Create a SparkSession\n",
    "spark = SparkSession.builder \\\n",
    "    .appName(\"Read CSV Example\") \\\n",
    "    .getOrCreate()\n",
    "# accounts\n",
    "df_accounts = spark.read \\\n",
    "    .option(\"header\", \"true\")  \\\n",
    "    .option(\"inferSchema\", \"true\")  \\\n",
    "    .csv(\"accounts.csv\", sep=\";\")\n",
    "\n",
    "df_accounts.count()\n"
   ]
  },
  {
   "cell_type": "code",
   "execution_count": 3,
   "id": "33d06567-d7fe-4ca5-8b0d-502b554bd552",
   "metadata": {},
   "outputs": [
    {
     "data": {
      "text/plain": [
       "121"
      ]
     },
     "execution_count": 3,
     "metadata": {},
     "output_type": "execute_result"
    }
   ],
   "source": [
    "from pyspark.sql import SparkSession\n",
    "# Create a SparkSession\n",
    "spark = SparkSession.builder \\\n",
    "    .appName(\"Read CSV Example\") \\\n",
    "    .getOrCreate()\n",
    "\n",
    "# country_abbreviation\n",
    "df_country_abbreviation = spark.read \\\n",
    "    .option(\"header\", \"true\") \\\n",
    "    .option(\"inferSchema\", \"true\") \\\n",
    "    .csv(\"country_abbreviation.csv\", sep=\";\") \n",
    "\n",
    "df_country_abbreviation.count()"
   ]
  },
  {
   "cell_type": "code",
   "execution_count": 4,
   "id": "575f87e2-836f-4b6d-8ec3-83fc7e2b3b0a",
   "metadata": {},
   "outputs": [
    {
     "data": {
      "text/plain": [
       "5000000"
      ]
     },
     "execution_count": 4,
     "metadata": {},
     "output_type": "execute_result"
    }
   ],
   "source": [
    "from pyspark.sql import SparkSession\n",
    "# Create a SparkSession\n",
    "spark = SparkSession.builder \\\n",
    "    .appName(\"Read CSV Example\") \\\n",
    "    .getOrCreate()\n",
    "\n",
    "# transactions\n",
    "df_transactions = spark.read \\\n",
    "    .option(\"header\", \"true\") \\\n",
    "    .option(\"inferSchema\", \"true\") \\\n",
    "    .csv(\"transactions.csv\", sep=\";\")\n",
    "\n",
    "df_transactions.count()\n",
    "\n"
   ]
  },
  {
   "cell_type": "code",
   "execution_count": null,
   "id": "b28bf93c-ef36-4d67-94d1-685b20c88c0b",
   "metadata": {},
   "outputs": [],
   "source": [
    "spark.stop()"
   ]
  },
  {
   "cell_type": "markdown",
   "id": "d87bf58f-54e1-42d8-b3f6-a9d6ac4e8bb5",
   "metadata": {},
   "source": [
    "• Calculate how many accounts of each type there are using Spark SQL. The return type is a dataframe [account_type: string, account_type_count: int]"
   ]
  },
  {
   "cell_type": "code",
   "execution_count": 5,
   "id": "7719dc5a-d633-408e-b584-a57edbee8649",
   "metadata": {},
   "outputs": [
    {
     "name": "stdout",
     "output_type": "stream",
     "text": [
      "+------------+------------------+\n",
      "|account_type|account_type_count|\n",
      "+------------+------------------+\n",
      "|    Personal|           1667072|\n",
      "|Professional|           1667358|\n",
      "|    Business|           1665570|\n",
      "+------------+------------------+\n",
      "\n"
     ]
    }
   ],
   "source": [
    "from pyspark.sql import SparkSession\n",
    "\n",
    "# Initialize a Spark session\n",
    "spark = SparkSession.builder.appName(\"AccountTypeCount\").getOrCreate()\n",
    "\n",
    "df_transactions = spark.read \\\n",
    "    .option(\"header\", \"true\") \\\n",
    "    .option(\"inferSchema\", \"true\") \\\n",
    "    .csv(\"transactions.csv\", sep=\";\")\n",
    "\n",
    "df_accounts = spark.read \\\n",
    "    .option(\"header\", \"true\")  \\\n",
    "    .option(\"inferSchema\", \"true\")  \\\n",
    "    .csv(\"accounts.csv\", sep=\";\")\n",
    "\n",
    "df_accounts.createOrReplaceTempView(\"accounts\")\n",
    "\n",
    "df_transactions.createOrReplaceTempView(\"transactions\")\n",
    "\n",
    "df_accounts_result = spark.sql(\"\"\"\n",
    "    SELECT t.account_type AS account_type, COUNT(t.account_type) AS account_type_count \n",
    "    FROM transactions t\n",
    "    LEFT JOIN accounts a\n",
    "    ON a.id = t.id\n",
    "    GROUP BY t.account_type\n",
    "    \"\"\")\n",
    "\n",
    "df_accounts_result.show()"
   ]
  },
  {
   "cell_type": "markdown",
   "id": "45da2dfc-8e78-4938-b2c5-ab45edd0d2f3",
   "metadata": {},
   "source": [
    " •\tCalculate only the balance and the latest date for each account from transactions.csv. To calculate the balance, summarize all the transactions for  \n",
    "    each account. The return type is a dataframe [account_id: string, balance: string, latest_date: date]."
   ]
  },
  {
   "cell_type": "code",
   "execution_count": 6,
   "id": "cc170b24-2d58-45c2-b1f6-6739eae97c17",
   "metadata": {},
   "outputs": [
    {
     "name": "stdout",
     "output_type": "stream",
     "text": [
      "+----------+------------------+-----------+\n",
      "|account_id|           balance|latest_date|\n",
      "+----------+------------------+-----------+\n",
      "|    482333|          27174.07| 2020-07-17|\n",
      "|    222048|          48004.81| 2020-07-20|\n",
      "|    328078|          36948.25| 2020-02-01|\n",
      "|    192401|          36736.98| 2020-01-30|\n",
      "|    273916| 47475.37999999999| 2021-05-30|\n",
      "|    485103|          62198.93| 2021-05-22|\n",
      "|    300282|55103.619999999995| 2021-05-01|\n",
      "|     20683|          56448.72| 2021-10-27|\n",
      "|     15846| 58671.90999999999| 2020-12-23|\n",
      "|    446783| 98085.51000000001| 2021-12-11|\n",
      "|     92182|           42335.3| 2020-08-08|\n",
      "|    477485|          22114.03| 2020-05-23|\n",
      "|    171142|40428.899999999994| 2021-04-07|\n",
      "|    317762|          40025.55| 2021-12-02|\n",
      "|     65478|           57941.9| 2021-10-06|\n",
      "|    306768|          26566.93| 2019-12-19|\n",
      "|    380411|          43652.94| 2020-06-02|\n",
      "|    304681|          37827.69| 2021-03-26|\n",
      "|    475638|           44509.1| 2021-11-23|\n",
      "|     97413|          39611.24| 2018-05-01|\n",
      "+----------+------------------+-----------+\n",
      "only showing top 20 rows\n",
      "\n"
     ]
    }
   ],
   "source": [
    "from pyspark.sql import SparkSession\n",
    "\n",
    "# Create a SparkSession\n",
    "spark = SparkSession.builder \\\n",
    "    .appName(\"Read CSV Example\") \\\n",
    "    .getOrCreate()\n",
    "\n",
    "df_transactions = spark.read \\\n",
    "    .option(\"header\", \"true\") \\\n",
    "    .option(\"inferSchema\", \"true\") \\\n",
    "    .csv(\"transactions.csv\", sep=\";\")\n",
    "\n",
    "df_transactions.createOrReplaceTempView(\"transactions\")\n",
    "\n",
    "\n",
    "df_accounts_last_date_result = spark.sql(\"\"\"\n",
    "    SELECT id AS account_id,\n",
    "           CAST(SUM(amount) AS STRING) AS balance,\n",
    "           MAX(transaction_date) as latest_date\n",
    "    FROM transactions \n",
    "    GROUP BY id\n",
    "    \"\"\")\n",
    "\n",
    "df_accounts_last_date_result.show()"
   ]
  },
  {
   "cell_type": "markdown",
   "id": "1eb3fe10-8caf-4fb7-998b-206269931152",
   "metadata": {},
   "source": [
    "2.\tWrite a function using Spark Python or Spark Scala API to calculate total earnings (sum of transactions above 0) for each user from Switzerland by year as a pivot table. The result dataframe should contain user full names as one field split by whitespace, years, and earning values. "
   ]
  },
  {
   "cell_type": "code",
   "execution_count": 1,
   "id": "7ba0501c-028f-45b3-a0a4-f45562876734",
   "metadata": {},
   "outputs": [
    {
     "name": "stdout",
     "output_type": "stream",
     "text": [
      "+-----------------+------------------+------------------+-------+--------+-------+-------+------------------+--------+-------+-------+-------+\n",
      "|        full_name|              2011|              2012|   2013|    2014|   2015|   2016|              2017|    2018|   2019|   2020|   2021|\n",
      "+-----------------+------------------+------------------+-------+--------+-------+-------+------------------+--------+-------+-------+-------+\n",
      "|      Luke Carter|              null|1585.4099999999999|  93.69|    null|   null|   null|           7029.37| 8340.16|   null|   null|   null|\n",
      "|       Myra Owens|           7290.28|              null|   null| 7508.42|   null|   null|           19543.1|    null|   null|   null|   null|\n",
      "|   Kelsey Spencer|              null|           2523.35|   null|    null|   null|   null|              null|    null|   null|   null|   null|\n",
      "|    Darcy Edwards|              null|              null|   null|    null|   null|   null|           7892.65| 8538.91|2252.85|   null|   null|\n",
      "|    Honey Barrett|           8382.42|              null|   null|    null|   null| 4415.3|              null|    null|   null|   null|   null|\n",
      "|     Anna Elliott|              null|              null|   null| 2180.28|   null|   null|              null|    null|   null|   null|   null|\n",
      "|      Aldus Brown|              null|              null|3668.42|16615.86|   null|9477.91|              null|    null|   null|   null|   null|\n",
      "|     Dexter Mason|11351.220000000001|              null|   null|    null|   null|   null|            3721.5|    null|   null|   null|   null|\n",
      "|    Lenny Spencer|           2050.35|              null|   null|    null|   null| 509.08|16116.580000000002|    null|8693.52| 923.65|8797.15|\n",
      "|    Justin Cooper|            6241.2|              null|   null| 5669.36|   null|   null|              null|    null|   null|   null|   null|\n",
      "|       Carl Craig|              null|           7126.05|   null|    null|   null|   null|              null|    null|9610.96| 920.41|   null|\n",
      "|   Natalie Nelson|              null|              null|   null|    null|1664.57| 7067.5|           7446.06|14378.04|   null|   null|   null|\n",
      "|Jasmine Alexander|              null|              null|   null|    null|   null|   null|              null|    null|   null|2760.89|   null|\n",
      "|  Arnold Harrison|              null|          13277.13|   null|    null|   null|   null|              null|    null|   null|   null|   null|\n",
      "|     Camila Adams|              null|              null|5689.23|    null|   null|   null|              null|    null|   null|   null|   null|\n",
      "|       Clark Hall|              null|              null|   null| 3298.43|   null|   null|            685.65|    null|   null|   null|2048.98|\n",
      "|      Ryan Wilson|              null|              null|3053.58|    null|   null|   null|              null|    null|   null|   null|   null|\n",
      "|     Andrew Wells|           9416.46|              null|   null|    null|   null|   null|              null|    null|1038.48|   null|   null|\n",
      "|   Adelaide Craig|              null|              null|4808.77| 7029.03|   null|6001.19|              null|    null|   null|   null|   null|\n",
      "|  Charlotte Mason|           5509.63|              null| 739.58|    null|   null|   null|              null|    null|   null|7984.95|   null|\n",
      "+-----------------+------------------+------------------+-------+--------+-------+-------+------------------+--------+-------+-------+-------+\n",
      "only showing top 20 rows\n",
      "\n"
     ]
    }
   ],
   "source": [
    "from pyspark.sql import SparkSession\n",
    "\n",
    "from pyspark.sql.functions import sum, col, split, concat_ws\n",
    "from pyspark.sql import SparkSession\n",
    "\n",
    "# Create a SparkSession\n",
    "spark = SparkSession.builder \\\n",
    "    .appName(\"Read CSV Example\") \\\n",
    "    .getOrCreate()\n",
    "\n",
    "df_transactions = spark.read \\\n",
    "    .option(\"header\", \"true\") \\\n",
    "    .option(\"inferSchema\", \"true\") \\\n",
    "    .csv(\"transactions.csv\", sep=\";\")\n",
    "\n",
    "# country_abbreviation\n",
    "df_country_abbreviation = spark.read \\\n",
    "    .option(\"header\", \"true\") \\\n",
    "    .option(\"inferSchema\", \"true\") \\\n",
    "    .csv(\"country_abbreviation.csv\", sep=\";\") \n",
    "\n",
    "\n",
    "df_accounts = spark.read \\\n",
    "    .option(\"header\", \"true\")  \\\n",
    "    .option(\"inferSchema\", \"true\")  \\\n",
    "    .csv(\"accounts.csv\", sep=\";\")\n",
    "\n",
    "\n",
    "def calculate_total_earnings():\n",
    "    df_transactions_1 = df_transactions \\\n",
    "        .join(df_country_abbreviation,\n",
    "             df_transactions.country == df_country_abbreviation.abbreviation,\n",
    "             \"inner\") \\\n",
    "        .join(df_accounts.drop(\"country\"), \n",
    "             df_transactions.id == df_accounts.id,\n",
    "             \"inner\")\n",
    "\n",
    "    df_filtered_1 = df_transactions_1.filter((col(\"country\") == \"CH\") & (col(\"amount\") > 0))\n",
    "    df_filtered_2 = df_filtered_1.withColumn(\"year\", split(col(\"transaction_date\"), \"-\")[0].cast(\"int\"))\n",
    "    df_filtered_3 = df_filtered_2.withColumn(\"full_name\", concat_ws(\" \", df_filtered_2.first_name, df_filtered_2.last_name))\n",
    "\n",
    "    df_partitioned = df_filtered_3.repartition(\"country\")\n",
    "    \n",
    "    df_result = df_partitioned.groupBy(\"full_name\").pivot(\"year\").sum(\"amount\")\n",
    "    df_result.show()\n",
    "\n",
    "\n",
    "calculate_total_earnings()"
   ]
  },
  {
   "cell_type": "code",
   "execution_count": null,
   "id": "f9994334-f040-441a-b08f-97e71bf8d3de",
   "metadata": {},
   "outputs": [],
   "source": [
    "2.\tWrite a function that expects a transactions dataset as input and returns it with an additional column \"level\". The value of \"level \" is calculated based on the \"amount\" column as:\n",
    "•\tTop 25% of all transactions get a value \"high\".\n",
    "•\tThe next 50% of all transactions get \"average\".\n",
    "•\tThe rest gets \"low\"."
   ]
  },
  {
   "cell_type": "code",
   "execution_count": 9,
   "id": "f317d0f8-807c-4019-93b4-e9b77f22550b",
   "metadata": {},
   "outputs": [
    {
     "ename": "AnalysisException",
     "evalue": "[UNRESOLVED_COLUMN.WITH_SUGGESTION] A column or function parameter with name `total` cannot be resolved. Did you mean one of the following? [`amount`, `country`, `id`, `order`, `account_type`].;\n'Project [id#369, amount#370, account_type#371, transaction_date#372, country#373, order#392L, CASE WHEN (((order#392L / 'total) * 100) <= 25) THEN high WHEN ((((order#392L / 'total) * 100) >= 25) AND (((order#392L / 'total) * 100) <= 50)) THEN average ELSE low END AS level#399]\n+- Project [id#369, amount#370, account_type#371, transaction_date#372, country#373, monotonically_increasing_id() AS order#392L]\n   +- Sort [amount#370 DESC NULLS LAST], true\n      +- Relation [id#369,amount#370,account_type#371,transaction_date#372,country#373] csv\n",
     "output_type": "error",
     "traceback": [
      "\u001b[0;31m---------------------------------------------------------------------------\u001b[0m",
      "\u001b[0;31mAnalysisException\u001b[0m                         Traceback (most recent call last)",
      "Cell \u001b[0;32mIn[9], line 35\u001b[0m\n\u001b[1;32m     27\u001b[0m     data_set_positioned \u001b[38;5;241m=\u001b[39m data_set_ordered\u001b[38;5;241m.\u001b[39mwithColumn(\u001b[38;5;124m\"\u001b[39m\u001b[38;5;124morder\u001b[39m\u001b[38;5;124m\"\u001b[39m, monotonically_increasing_id())\n\u001b[1;32m     29\u001b[0m     data_set_positioned\u001b[38;5;241m.\u001b[39mwithColumn(\u001b[38;5;124m\"\u001b[39m\u001b[38;5;124mlevel\u001b[39m\u001b[38;5;124m\"\u001b[39m,\n\u001b[1;32m     30\u001b[0m                                 when(((col(\u001b[38;5;124m\"\u001b[39m\u001b[38;5;124morder\u001b[39m\u001b[38;5;124m\"\u001b[39m)\u001b[38;5;241m/\u001b[39mcol(\u001b[38;5;124m\"\u001b[39m\u001b[38;5;124mtotal\u001b[39m\u001b[38;5;124m\"\u001b[39m))\u001b[38;5;241m*\u001b[39m\u001b[38;5;241m100\u001b[39m)\u001b[38;5;241m<\u001b[39m\u001b[38;5;241m=\u001b[39m lit(\u001b[38;5;241m25\u001b[39m), \u001b[38;5;124m\"\u001b[39m\u001b[38;5;124mhigh\u001b[39m\u001b[38;5;124m\"\u001b[39m) \\\n\u001b[1;32m     31\u001b[0m                                \u001b[38;5;241m.\u001b[39mwhen(((((col(\u001b[38;5;124m\"\u001b[39m\u001b[38;5;124morder\u001b[39m\u001b[38;5;124m\"\u001b[39m)\u001b[38;5;241m/\u001b[39mcol(\u001b[38;5;124m\"\u001b[39m\u001b[38;5;124mtotal\u001b[39m\u001b[38;5;124m\"\u001b[39m))\u001b[38;5;241m*\u001b[39m\u001b[38;5;241m100\u001b[39m)\u001b[38;5;241m>\u001b[39m\u001b[38;5;241m=\u001b[39m lit(\u001b[38;5;241m25\u001b[39m)) \u001b[38;5;241m&\u001b[39m (((col(\u001b[38;5;124m\"\u001b[39m\u001b[38;5;124morder\u001b[39m\u001b[38;5;124m\"\u001b[39m)\u001b[38;5;241m/\u001b[39mcol(\u001b[38;5;124m\"\u001b[39m\u001b[38;5;124mtotal\u001b[39m\u001b[38;5;124m\"\u001b[39m))\u001b[38;5;241m*\u001b[39m\u001b[38;5;241m100\u001b[39m)\u001b[38;5;241m<\u001b[39m\u001b[38;5;241m=\u001b[39m lit(\u001b[38;5;241m50\u001b[39m))), \u001b[38;5;124m\"\u001b[39m\u001b[38;5;124maverage\u001b[39m\u001b[38;5;124m\"\u001b[39m) \\\n\u001b[1;32m     32\u001b[0m                                \u001b[38;5;241m.\u001b[39motherwise(\u001b[38;5;124m\"\u001b[39m\u001b[38;5;124mlow\u001b[39m\u001b[38;5;124m\"\u001b[39m))\u001b[38;5;241m.\u001b[39mselect(\u001b[38;5;124m\"\u001b[39m\u001b[38;5;124mid\u001b[39m\u001b[38;5;124m\"\u001b[39m,\u001b[38;5;124m\"\u001b[39m\u001b[38;5;124maccount_type\u001b[39m\u001b[38;5;124m\"\u001b[39m,\u001b[38;5;124m\"\u001b[39m\u001b[38;5;124mamount\u001b[39m\u001b[38;5;124m\"\u001b[39m,\u001b[38;5;124m\"\u001b[39m\u001b[38;5;124mcountry\u001b[39m\u001b[38;5;124m\"\u001b[39m,\u001b[38;5;124m\"\u001b[39m\u001b[38;5;124mlevel\u001b[39m\u001b[38;5;124m\"\u001b[39m)\u001b[38;5;241m.\u001b[39mshow()\n\u001b[0;32m---> 35\u001b[0m \u001b[43mget_level_by_percent\u001b[49m\u001b[43m(\u001b[49m\u001b[43mdf_transactions\u001b[49m\u001b[43m)\u001b[49m\n",
      "Cell \u001b[0;32mIn[9], line 29\u001b[0m, in \u001b[0;36mget_level_by_percent\u001b[0;34m(data_set)\u001b[0m\n\u001b[1;32m     26\u001b[0m data_set_ordered \u001b[38;5;241m=\u001b[39m data_set\u001b[38;5;241m.\u001b[39morderBy(\u001b[38;5;124m\"\u001b[39m\u001b[38;5;124mamount\u001b[39m\u001b[38;5;124m\"\u001b[39m, ascending\u001b[38;5;241m=\u001b[39m\u001b[38;5;28;01mFalse\u001b[39;00m)\n\u001b[1;32m     27\u001b[0m data_set_positioned \u001b[38;5;241m=\u001b[39m data_set_ordered\u001b[38;5;241m.\u001b[39mwithColumn(\u001b[38;5;124m\"\u001b[39m\u001b[38;5;124morder\u001b[39m\u001b[38;5;124m\"\u001b[39m, monotonically_increasing_id())\n\u001b[0;32m---> 29\u001b[0m \u001b[43mdata_set_positioned\u001b[49m\u001b[38;5;241;43m.\u001b[39;49m\u001b[43mwithColumn\u001b[49m\u001b[43m(\u001b[49m\u001b[38;5;124;43m\"\u001b[39;49m\u001b[38;5;124;43mlevel\u001b[39;49m\u001b[38;5;124;43m\"\u001b[39;49m\u001b[43m,\u001b[49m\n\u001b[1;32m     30\u001b[0m \u001b[43m                            \u001b[49m\u001b[43mwhen\u001b[49m\u001b[43m(\u001b[49m\u001b[43m(\u001b[49m\u001b[43m(\u001b[49m\u001b[43mcol\u001b[49m\u001b[43m(\u001b[49m\u001b[38;5;124;43m\"\u001b[39;49m\u001b[38;5;124;43morder\u001b[39;49m\u001b[38;5;124;43m\"\u001b[39;49m\u001b[43m)\u001b[49m\u001b[38;5;241;43m/\u001b[39;49m\u001b[43mcol\u001b[49m\u001b[43m(\u001b[49m\u001b[38;5;124;43m\"\u001b[39;49m\u001b[38;5;124;43mtotal\u001b[39;49m\u001b[38;5;124;43m\"\u001b[39;49m\u001b[43m)\u001b[49m\u001b[43m)\u001b[49m\u001b[38;5;241;43m*\u001b[39;49m\u001b[38;5;241;43m100\u001b[39;49m\u001b[43m)\u001b[49m\u001b[38;5;241;43m<\u001b[39;49m\u001b[38;5;241;43m=\u001b[39;49m\u001b[43m \u001b[49m\u001b[43mlit\u001b[49m\u001b[43m(\u001b[49m\u001b[38;5;241;43m25\u001b[39;49m\u001b[43m)\u001b[49m\u001b[43m,\u001b[49m\u001b[43m \u001b[49m\u001b[38;5;124;43m\"\u001b[39;49m\u001b[38;5;124;43mhigh\u001b[39;49m\u001b[38;5;124;43m\"\u001b[39;49m\u001b[43m)\u001b[49m\u001b[43m \u001b[49m\u001b[43m\\\u001b[49m\n\u001b[1;32m     31\u001b[0m \u001b[43m                           \u001b[49m\u001b[38;5;241;43m.\u001b[39;49m\u001b[43mwhen\u001b[49m\u001b[43m(\u001b[49m\u001b[43m(\u001b[49m\u001b[43m(\u001b[49m\u001b[43m(\u001b[49m\u001b[43m(\u001b[49m\u001b[43mcol\u001b[49m\u001b[43m(\u001b[49m\u001b[38;5;124;43m\"\u001b[39;49m\u001b[38;5;124;43morder\u001b[39;49m\u001b[38;5;124;43m\"\u001b[39;49m\u001b[43m)\u001b[49m\u001b[38;5;241;43m/\u001b[39;49m\u001b[43mcol\u001b[49m\u001b[43m(\u001b[49m\u001b[38;5;124;43m\"\u001b[39;49m\u001b[38;5;124;43mtotal\u001b[39;49m\u001b[38;5;124;43m\"\u001b[39;49m\u001b[43m)\u001b[49m\u001b[43m)\u001b[49m\u001b[38;5;241;43m*\u001b[39;49m\u001b[38;5;241;43m100\u001b[39;49m\u001b[43m)\u001b[49m\u001b[38;5;241;43m>\u001b[39;49m\u001b[38;5;241;43m=\u001b[39;49m\u001b[43m \u001b[49m\u001b[43mlit\u001b[49m\u001b[43m(\u001b[49m\u001b[38;5;241;43m25\u001b[39;49m\u001b[43m)\u001b[49m\u001b[43m)\u001b[49m\u001b[43m \u001b[49m\u001b[38;5;241;43m&\u001b[39;49m\u001b[43m \u001b[49m\u001b[43m(\u001b[49m\u001b[43m(\u001b[49m\u001b[43m(\u001b[49m\u001b[43mcol\u001b[49m\u001b[43m(\u001b[49m\u001b[38;5;124;43m\"\u001b[39;49m\u001b[38;5;124;43morder\u001b[39;49m\u001b[38;5;124;43m\"\u001b[39;49m\u001b[43m)\u001b[49m\u001b[38;5;241;43m/\u001b[39;49m\u001b[43mcol\u001b[49m\u001b[43m(\u001b[49m\u001b[38;5;124;43m\"\u001b[39;49m\u001b[38;5;124;43mtotal\u001b[39;49m\u001b[38;5;124;43m\"\u001b[39;49m\u001b[43m)\u001b[49m\u001b[43m)\u001b[49m\u001b[38;5;241;43m*\u001b[39;49m\u001b[38;5;241;43m100\u001b[39;49m\u001b[43m)\u001b[49m\u001b[38;5;241;43m<\u001b[39;49m\u001b[38;5;241;43m=\u001b[39;49m\u001b[43m \u001b[49m\u001b[43mlit\u001b[49m\u001b[43m(\u001b[49m\u001b[38;5;241;43m50\u001b[39;49m\u001b[43m)\u001b[49m\u001b[43m)\u001b[49m\u001b[43m)\u001b[49m\u001b[43m,\u001b[49m\u001b[43m \u001b[49m\u001b[38;5;124;43m\"\u001b[39;49m\u001b[38;5;124;43maverage\u001b[39;49m\u001b[38;5;124;43m\"\u001b[39;49m\u001b[43m)\u001b[49m\u001b[43m \u001b[49m\u001b[43m\\\u001b[49m\n\u001b[1;32m     32\u001b[0m \u001b[43m                           \u001b[49m\u001b[38;5;241;43m.\u001b[39;49m\u001b[43motherwise\u001b[49m\u001b[43m(\u001b[49m\u001b[38;5;124;43m\"\u001b[39;49m\u001b[38;5;124;43mlow\u001b[39;49m\u001b[38;5;124;43m\"\u001b[39;49m\u001b[43m)\u001b[49m\u001b[43m)\u001b[49m\u001b[38;5;241m.\u001b[39mselect(\u001b[38;5;124m\"\u001b[39m\u001b[38;5;124mid\u001b[39m\u001b[38;5;124m\"\u001b[39m,\u001b[38;5;124m\"\u001b[39m\u001b[38;5;124maccount_type\u001b[39m\u001b[38;5;124m\"\u001b[39m,\u001b[38;5;124m\"\u001b[39m\u001b[38;5;124mamount\u001b[39m\u001b[38;5;124m\"\u001b[39m,\u001b[38;5;124m\"\u001b[39m\u001b[38;5;124mcountry\u001b[39m\u001b[38;5;124m\"\u001b[39m,\u001b[38;5;124m\"\u001b[39m\u001b[38;5;124mlevel\u001b[39m\u001b[38;5;124m\"\u001b[39m)\u001b[38;5;241m.\u001b[39mshow()\n",
      "File \u001b[0;32m/usr/local/spark/python/pyspark/sql/dataframe.py:4789\u001b[0m, in \u001b[0;36mDataFrame.withColumn\u001b[0;34m(self, colName, col)\u001b[0m\n\u001b[1;32m   4784\u001b[0m \u001b[38;5;28;01mif\u001b[39;00m \u001b[38;5;129;01mnot\u001b[39;00m \u001b[38;5;28misinstance\u001b[39m(col, Column):\n\u001b[1;32m   4785\u001b[0m     \u001b[38;5;28;01mraise\u001b[39;00m PySparkTypeError(\n\u001b[1;32m   4786\u001b[0m         error_class\u001b[38;5;241m=\u001b[39m\u001b[38;5;124m\"\u001b[39m\u001b[38;5;124mNOT_COLUMN\u001b[39m\u001b[38;5;124m\"\u001b[39m,\n\u001b[1;32m   4787\u001b[0m         message_parameters\u001b[38;5;241m=\u001b[39m{\u001b[38;5;124m\"\u001b[39m\u001b[38;5;124marg_name\u001b[39m\u001b[38;5;124m\"\u001b[39m: \u001b[38;5;124m\"\u001b[39m\u001b[38;5;124mcol\u001b[39m\u001b[38;5;124m\"\u001b[39m, \u001b[38;5;124m\"\u001b[39m\u001b[38;5;124marg_type\u001b[39m\u001b[38;5;124m\"\u001b[39m: \u001b[38;5;28mtype\u001b[39m(col)\u001b[38;5;241m.\u001b[39m\u001b[38;5;18m__name__\u001b[39m},\n\u001b[1;32m   4788\u001b[0m     )\n\u001b[0;32m-> 4789\u001b[0m \u001b[38;5;28;01mreturn\u001b[39;00m DataFrame(\u001b[38;5;28;43mself\u001b[39;49m\u001b[38;5;241;43m.\u001b[39;49m\u001b[43m_jdf\u001b[49m\u001b[38;5;241;43m.\u001b[39;49m\u001b[43mwithColumn\u001b[49m\u001b[43m(\u001b[49m\u001b[43mcolName\u001b[49m\u001b[43m,\u001b[49m\u001b[43m \u001b[49m\u001b[43mcol\u001b[49m\u001b[38;5;241;43m.\u001b[39;49m\u001b[43m_jc\u001b[49m\u001b[43m)\u001b[49m, \u001b[38;5;28mself\u001b[39m\u001b[38;5;241m.\u001b[39msparkSession)\n",
      "File \u001b[0;32m/usr/local/spark/python/lib/py4j-0.10.9.7-src.zip/py4j/java_gateway.py:1322\u001b[0m, in \u001b[0;36mJavaMember.__call__\u001b[0;34m(self, *args)\u001b[0m\n\u001b[1;32m   1316\u001b[0m command \u001b[38;5;241m=\u001b[39m proto\u001b[38;5;241m.\u001b[39mCALL_COMMAND_NAME \u001b[38;5;241m+\u001b[39m\\\n\u001b[1;32m   1317\u001b[0m     \u001b[38;5;28mself\u001b[39m\u001b[38;5;241m.\u001b[39mcommand_header \u001b[38;5;241m+\u001b[39m\\\n\u001b[1;32m   1318\u001b[0m     args_command \u001b[38;5;241m+\u001b[39m\\\n\u001b[1;32m   1319\u001b[0m     proto\u001b[38;5;241m.\u001b[39mEND_COMMAND_PART\n\u001b[1;32m   1321\u001b[0m answer \u001b[38;5;241m=\u001b[39m \u001b[38;5;28mself\u001b[39m\u001b[38;5;241m.\u001b[39mgateway_client\u001b[38;5;241m.\u001b[39msend_command(command)\n\u001b[0;32m-> 1322\u001b[0m return_value \u001b[38;5;241m=\u001b[39m \u001b[43mget_return_value\u001b[49m\u001b[43m(\u001b[49m\n\u001b[1;32m   1323\u001b[0m \u001b[43m    \u001b[49m\u001b[43manswer\u001b[49m\u001b[43m,\u001b[49m\u001b[43m \u001b[49m\u001b[38;5;28;43mself\u001b[39;49m\u001b[38;5;241;43m.\u001b[39;49m\u001b[43mgateway_client\u001b[49m\u001b[43m,\u001b[49m\u001b[43m \u001b[49m\u001b[38;5;28;43mself\u001b[39;49m\u001b[38;5;241;43m.\u001b[39;49m\u001b[43mtarget_id\u001b[49m\u001b[43m,\u001b[49m\u001b[43m \u001b[49m\u001b[38;5;28;43mself\u001b[39;49m\u001b[38;5;241;43m.\u001b[39;49m\u001b[43mname\u001b[49m\u001b[43m)\u001b[49m\n\u001b[1;32m   1325\u001b[0m \u001b[38;5;28;01mfor\u001b[39;00m temp_arg \u001b[38;5;129;01min\u001b[39;00m temp_args:\n\u001b[1;32m   1326\u001b[0m     \u001b[38;5;28;01mif\u001b[39;00m \u001b[38;5;28mhasattr\u001b[39m(temp_arg, \u001b[38;5;124m\"\u001b[39m\u001b[38;5;124m_detach\u001b[39m\u001b[38;5;124m\"\u001b[39m):\n",
      "File \u001b[0;32m/usr/local/spark/python/pyspark/errors/exceptions/captured.py:175\u001b[0m, in \u001b[0;36mcapture_sql_exception.<locals>.deco\u001b[0;34m(*a, **kw)\u001b[0m\n\u001b[1;32m    171\u001b[0m converted \u001b[38;5;241m=\u001b[39m convert_exception(e\u001b[38;5;241m.\u001b[39mjava_exception)\n\u001b[1;32m    172\u001b[0m \u001b[38;5;28;01mif\u001b[39;00m \u001b[38;5;129;01mnot\u001b[39;00m \u001b[38;5;28misinstance\u001b[39m(converted, UnknownException):\n\u001b[1;32m    173\u001b[0m     \u001b[38;5;66;03m# Hide where the exception came from that shows a non-Pythonic\u001b[39;00m\n\u001b[1;32m    174\u001b[0m     \u001b[38;5;66;03m# JVM exception message.\u001b[39;00m\n\u001b[0;32m--> 175\u001b[0m     \u001b[38;5;28;01mraise\u001b[39;00m converted \u001b[38;5;28;01mfrom\u001b[39;00m \u001b[38;5;28;01mNone\u001b[39;00m\n\u001b[1;32m    176\u001b[0m \u001b[38;5;28;01melse\u001b[39;00m:\n\u001b[1;32m    177\u001b[0m     \u001b[38;5;28;01mraise\u001b[39;00m\n",
      "\u001b[0;31mAnalysisException\u001b[0m: [UNRESOLVED_COLUMN.WITH_SUGGESTION] A column or function parameter with name `total` cannot be resolved. Did you mean one of the following? [`amount`, `country`, `id`, `order`, `account_type`].;\n'Project [id#369, amount#370, account_type#371, transaction_date#372, country#373, order#392L, CASE WHEN (((order#392L / 'total) * 100) <= 25) THEN high WHEN ((((order#392L / 'total) * 100) >= 25) AND (((order#392L / 'total) * 100) <= 50)) THEN average ELSE low END AS level#399]\n+- Project [id#369, amount#370, account_type#371, transaction_date#372, country#373, monotonically_increasing_id() AS order#392L]\n   +- Sort [amount#370 DESC NULLS LAST], true\n      +- Relation [id#369,amount#370,account_type#371,transaction_date#372,country#373] csv\n"
     ]
    }
   ],
   "source": [
    "from pyspark.sql.functions import col, when,lit, monotonically_increasing_id\n",
    "from pyspark.sql import SparkSession, Row\n",
    "from pyspark.sql.functions import broadcast, lit\n",
    "from pyspark.sql.types import StructType, StructField, StringType, IntegerType\n",
    "\n",
    "schema = StructType([\n",
    "    StructField(\"total\", IntegerType(), True)\n",
    "])\n",
    "\n",
    "\n",
    "# Create a SparkSession\n",
    "spark = SparkSession.builder \\\n",
    "    .appName(\"Read CSV Example\") \\\n",
    "    .getOrCreate()\n",
    "\n",
    "# transactions\n",
    "df_transactions = spark.read \\\n",
    "    .option(\"header\", \"true\") \\\n",
    "    .option(\"inferSchema\", \"true\") \\\n",
    "    .csv(\"transactions.csv\", sep=\";\")\n",
    "\n",
    "def get_level_by_percent(data_set):\n",
    "    \n",
    "    data = [Row(total=data_set.count())]\n",
    "    broadcast_df_small = broadcast(spark.createDataFrame(data))\n",
    "    data_set_ordered = data_set.orderBy(\"amount\", ascending=False)\n",
    "    data_set_positioned = data_set_ordered.withColumn(\"order\", monotonically_increasing_id())\n",
    "\n",
    "    data_set_positioned.withColumn(\"level\",\n",
    "                                when(((col(\"order\")/col(\"total\"))*100)<= lit(25), \"high\") \\\n",
    "                               .when(((((col(\"order\")/col(\"total\"))*100)>= lit(25)) & (((col(\"order\")/col(\"total\"))*100)<= lit(50))), \"average\") \\\n",
    "                               .otherwise(\"low\")).select(\"id\",\"account_type\",\"amount\",\"country\",\"level\").show()\n",
    "\n",
    "\n",
    "get_level_by_percent(df_transactions)"
   ]
  },
  {
   "cell_type": "code",
   "execution_count": null,
   "id": "62bd3fb5-0f90-4505-9e85-b0ae2e06d843",
   "metadata": {},
   "outputs": [],
   "source": []
  }
 ],
 "metadata": {
  "kernelspec": {
   "display_name": "Python 3 (ipykernel)",
   "language": "python",
   "name": "python3"
  },
  "language_info": {
   "codemirror_mode": {
    "name": "ipython",
    "version": 3
   },
   "file_extension": ".py",
   "mimetype": "text/x-python",
   "name": "python",
   "nbconvert_exporter": "python",
   "pygments_lexer": "ipython3",
   "version": "3.11.5"
  }
 },
 "nbformat": 4,
 "nbformat_minor": 5
}
